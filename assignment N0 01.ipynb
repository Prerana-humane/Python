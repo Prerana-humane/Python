{
 "cells": [
  {
   "cell_type": "code",
   "execution_count": null,
   "id": "422cf6cd",
   "metadata": {},
   "outputs": [],
   "source": [
    "Q1. Create one variable containing following type of data:\n",
    "(i) string\n",
    "(ii) list\n",
    "(iii) float\n",
    "(iv) tuple"
   ]
  },
  {
   "cell_type": "code",
   "execution_count": 1,
   "id": "c784a44e",
   "metadata": {},
   "outputs": [
    {
     "name": "stdout",
     "output_type": "stream",
     "text": [
      "<class 'str'>\n"
     ]
    }
   ],
   "source": [
    "a=\"hello\"\n",
    "print(type(a))"
   ]
  },
  {
   "cell_type": "code",
   "execution_count": 2,
   "id": "2f856953",
   "metadata": {},
   "outputs": [
    {
     "data": {
      "text/plain": [
       "list"
      ]
     },
     "execution_count": 2,
     "metadata": {},
     "output_type": "execute_result"
    }
   ],
   "source": [
    "list=[1,2,\"john\",\"welon\",908009]\n",
    "type(list)"
   ]
  },
  {
   "cell_type": "code",
   "execution_count": 3,
   "id": "269101c2",
   "metadata": {},
   "outputs": [
    {
     "data": {
      "text/plain": [
       "float"
      ]
     },
     "execution_count": 3,
     "metadata": {},
     "output_type": "execute_result"
    }
   ],
   "source": [
    "b=456.89\n",
    "type(b)"
   ]
  },
  {
   "cell_type": "code",
   "execution_count": 4,
   "id": "069792eb",
   "metadata": {},
   "outputs": [
    {
     "data": {
      "text/plain": [
       "tuple"
      ]
     },
     "execution_count": 4,
     "metadata": {},
     "output_type": "execute_result"
    }
   ],
   "source": [
    "c=(1,2,3,\"hello\")\n",
    "type(c)"
   ]
  },
  {
   "cell_type": "markdown",
   "id": "928a839e",
   "metadata": {},
   "source": [
    "Q2. Given are some following variables containing data:\n",
    "(i) var1 = ' '\n",
    "(ii) var2 = ‘[ DS , ML , Python]’\n",
    "(iii) var3 = [ ‘DS’ , ’ML’ , ‘Python’ ]\n",
    "(iv) var4 = 1.\n",
    "What will be the data type of the above given variable."
   ]
  },
  {
   "cell_type": "code",
   "execution_count": 22,
   "id": "8a7482ac",
   "metadata": {},
   "outputs": [
    {
     "data": {
      "text/plain": [
       "str"
      ]
     },
     "execution_count": 22,
     "metadata": {},
     "output_type": "execute_result"
    }
   ],
   "source": [
    "var1 = ' '\n",
    "type(var1)"
   ]
  },
  {
   "cell_type": "markdown",
   "id": "bf1ac961",
   "metadata": {},
   "source": [
    "var2 = '[DS , ML , Python]'\n",
    "type(var2)"
   ]
  },
  {
   "cell_type": "code",
   "execution_count": 20,
   "id": "002bf55b",
   "metadata": {},
   "outputs": [
    {
     "data": {
      "text/plain": [
       "list"
      ]
     },
     "execution_count": 20,
     "metadata": {},
     "output_type": "execute_result"
    }
   ],
   "source": [
    "var3 = [ 'DS' , 'ML', 'Python']\n",
    "type(var3)"
   ]
  },
  {
   "cell_type": "code",
   "execution_count": 13,
   "id": "c214251f",
   "metadata": {},
   "outputs": [
    {
     "data": {
      "text/plain": [
       "int"
      ]
     },
     "execution_count": 13,
     "metadata": {},
     "output_type": "execute_result"
    }
   ],
   "source": [
    "var4 = 1\n",
    "type(var4)"
   ]
  },
  {
   "cell_type": "markdown",
   "id": "d836dad5",
   "metadata": {},
   "source": [
    "Q3. Explain the use of the following operators using an example:\n",
    "(i) /\n",
    "(ii) %\n",
    "(iii) //\n",
    "(iv) **"
   ]
  },
  {
   "cell_type": "code",
   "execution_count": 25,
   "id": "e3d05fb9",
   "metadata": {},
   "outputs": [
    {
     "name": "stdout",
     "output_type": "stream",
     "text": [
      "7.0\n"
     ]
    }
   ],
   "source": [
    "# / = It is division operator and used to divide the first operand by the second\n",
    "a=14/2\n",
    "print(a)"
   ]
  },
  {
   "cell_type": "code",
   "execution_count": 27,
   "id": "bc9a62f0",
   "metadata": {},
   "outputs": [
    {
     "name": "stdout",
     "output_type": "stream",
     "text": [
      "5\n"
     ]
    }
   ],
   "source": [
    "# % = It is modulas operator and return the remainder when the first operand is divided by second\n",
    "b = 55 % 10\n",
    "print(b)"
   ]
  },
  {
   "cell_type": "code",
   "execution_count": 28,
   "id": "8ebec5d9",
   "metadata": {},
   "outputs": [
    {
     "name": "stdout",
     "output_type": "stream",
     "text": [
      "2\n"
     ]
    }
   ],
   "source": [
    "#  // = It is floor division operator and divides the first operand by the second\n",
    "c = 45 // 20\n",
    "print(c)"
   ]
  },
  {
   "cell_type": "code",
   "execution_count": 29,
   "id": "6b5d03b0",
   "metadata": {},
   "outputs": [
    {
     "name": "stdout",
     "output_type": "stream",
     "text": [
      "8000\n"
     ]
    }
   ],
   "source": [
    "# ** = It is exponent operator and Returns first raised to power second\n",
    "d = 20 ** 3\n",
    "print(d)"
   ]
  },
  {
   "cell_type": "markdown",
   "id": "5189d36d",
   "metadata": {},
   "source": [
    "Q4. Create a list of length 10 of your choice containing multiple types of data. Using for loop print the\n",
    "element and its data type."
   ]
  },
  {
   "cell_type": "code",
   "execution_count": 44,
   "id": "ce6c20df",
   "metadata": {},
   "outputs": [
    {
     "name": "stdout",
     "output_type": "stream",
     "text": [
      "1 <class 'int'>\n",
      "hello <class 'str'>\n",
      "23.4 <class 'float'>\n",
      "(45+5j) <class 'complex'>\n",
      "(1, 2, 3) <class 'tuple'>\n",
      "True <class 'bool'>\n",
      "{'hey:python'} <class 'set'>\n",
      "[4, 5] <class 'list'>\n",
      "pree <class 'str'>\n",
      "34 <class 'int'>\n"
     ]
    }
   ],
   "source": [
    "list = [1,\"hello\",23.4,45+5j,(1,2,3),True,{\"hey:python\"},[4,5],\"pree\",34]\n",
    "for i in list:\n",
    "    print(i,type(i))\n",
    "    "
   ]
  },
  {
   "cell_type": "markdown",
   "id": "a8c3f7a0",
   "metadata": {},
   "source": [
    "Q5. Using a while loop, verify if the number A is purely divisible by number B and if so then how many\n",
    "times it can be divisible."
   ]
  },
  {
   "cell_type": "code",
   "execution_count": 54,
   "id": "14eb8860",
   "metadata": {},
   "outputs": [
    {
     "name": "stdout",
     "output_type": "stream",
     "text": [
      "enter the 1st number14\n",
      "enter the 2nd number2\n",
      "7.0 divides 1 times into 2\n"
     ]
    }
   ],
   "source": [
    "a=(int(input(\"enter the 1st number\")))\n",
    "b=(int(input(\"enter the 2nd number\")))\n",
    "count = 0\n",
    "while a % b == 0:\n",
    "    count += 1\n",
    "    a /= b\n",
    "    print(f\"{a} divides {count} times into {b}\")"
   ]
  },
  {
   "cell_type": "markdown",
   "id": "75a7cc32",
   "metadata": {},
   "source": [
    "Q6.Create a list containing 25 int type data. Using for loop and if-else condition print if the element is\n",
    "divisible by 3 or not."
   ]
  },
  {
   "cell_type": "code",
   "execution_count": 65,
   "id": "ac03be1b",
   "metadata": {},
   "outputs": [
    {
     "name": "stdout",
     "output_type": "stream",
     "text": [
      "3 divisible by 3\n",
      "9 divisible by 3\n",
      "4 not divisible by 3\n",
      "18 divisible by 3\n",
      "68 not divisible by 3\n",
      "90 divisible by 3\n",
      "34 not divisible by 3\n",
      "78 divisible by 3\n",
      "30 divisible by 3\n",
      "27 divisible by 3\n",
      "68 not divisible by 3\n",
      "45 divisible by 3\n",
      "23 not divisible by 3\n",
      "65 not divisible by 3\n",
      "33 divisible by 3\n",
      "20 not divisible by 3\n",
      "76 not divisible by 3\n",
      "12 divisible by 3\n",
      "32 not divisible by 3\n",
      "55 not divisible by 3\n",
      "60 divisible by 3\n",
      "80 not divisible by 3\n",
      "44 not divisible by 3\n",
      "21 divisible by 3\n",
      "24 divisible by 3\n"
     ]
    }
   ],
   "source": [
    "list=[3,9,4,18,68,90,34,78,30,27,68,45,23,65,33,20,76,12,32,55,60,80,44,21,24]\n",
    "for i in list:\n",
    "  \n",
    " if i % 3 ==0:\n",
    "    print(i,\"divisible by 3\")\n",
    " else:\n",
    "    print(i,\"not divisible by 3\")"
   ]
  },
  {
   "cell_type": "markdown",
   "id": "d414f11b",
   "metadata": {},
   "source": [
    "Q7.What do you understand about mutable and immutable data types? Give examples for both showing\n",
    "this property. "
   ]
  },
  {
   "cell_type": "code",
   "execution_count": null,
   "id": "2956e017",
   "metadata": {},
   "outputs": [],
   "source": [
    "mutable = mutable means we can change,remove the value inserted\n",
    " list,dictionary,sets   "
   ]
  },
  {
   "cell_type": "code",
   "execution_count": 71,
   "id": "853eb64e",
   "metadata": {},
   "outputs": [
    {
     "name": "stdout",
     "output_type": "stream",
     "text": [
      "[2, 3, 6, 5]\n"
     ]
    }
   ],
   "source": [
    "# for example:\n",
    "list = [2,3,4,5]\n",
    "list[0]\n",
    "list[2]=6 # add the new value in the position of 2\n",
    "print(list)"
   ]
  },
  {
   "cell_type": "code",
   "execution_count": null,
   "id": "7b5df6b5",
   "metadata": {},
   "outputs": [],
   "source": [
    "immutable = immutable means we cannnot change the value inserted\n",
    "tuple , string"
   ]
  },
  {
   "cell_type": "code",
   "execution_count": 72,
   "id": "b817d3d0",
   "metadata": {},
   "outputs": [
    {
     "ename": "TypeError",
     "evalue": "'str' object does not support item assignment",
     "output_type": "error",
     "traceback": [
      "\u001b[1;31m---------------------------------------------------------------------------\u001b[0m",
      "\u001b[1;31mTypeError\u001b[0m                                 Traceback (most recent call last)",
      "\u001b[1;32m~\\AppData\\Local\\Temp\\ipykernel_17588\\1924061559.py\u001b[0m in \u001b[0;36m<module>\u001b[1;34m\u001b[0m\n\u001b[0;32m      1\u001b[0m \u001b[0mstr\u001b[0m \u001b[1;33m=\u001b[0m \u001b[1;34m\"welcome to python\"\u001b[0m\u001b[1;33m\u001b[0m\u001b[1;33m\u001b[0m\u001b[0m\n\u001b[1;32m----> 2\u001b[1;33m \u001b[0mstr\u001b[0m\u001b[1;33m[\u001b[0m\u001b[1;36m4\u001b[0m\u001b[1;33m]\u001b[0m \u001b[1;33m=\u001b[0m \u001b[1;34m\"s\"\u001b[0m\u001b[1;33m\u001b[0m\u001b[1;33m\u001b[0m\u001b[0m\n\u001b[0m\u001b[0;32m      3\u001b[0m \u001b[0mprint\u001b[0m\u001b[1;33m(\u001b[0m\u001b[0mstr\u001b[0m\u001b[1;33m)\u001b[0m\u001b[1;33m\u001b[0m\u001b[1;33m\u001b[0m\u001b[0m\n",
      "\u001b[1;31mTypeError\u001b[0m: 'str' object does not support item assignment"
     ]
    }
   ],
   "source": [
    "str = \"welcome to python\"\n",
    "str[4] = \"s\"\n",
    "print(str)"
   ]
  },
  {
   "cell_type": "code",
   "execution_count": null,
   "id": "46e938d0",
   "metadata": {},
   "outputs": [],
   "source": []
  }
 ],
 "metadata": {
  "kernelspec": {
   "display_name": "Python 3 (ipykernel)",
   "language": "python",
   "name": "python3"
  },
  "language_info": {
   "codemirror_mode": {
    "name": "ipython",
    "version": 3
   },
   "file_extension": ".py",
   "mimetype": "text/x-python",
   "name": "python",
   "nbconvert_exporter": "python",
   "pygments_lexer": "ipython3",
   "version": "3.9.13"
  }
 },
 "nbformat": 4,
 "nbformat_minor": 5
}
