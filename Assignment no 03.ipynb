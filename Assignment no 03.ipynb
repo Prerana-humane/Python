{
 "cells": [
  {
   "cell_type": "markdown",
   "id": "848c23c3",
   "metadata": {},
   "source": [
    "Q1 Which keyword is used to create a function? Create a function to return a list of odd numbers in the\n",
    "range of 1 to 25."
   ]
  },
  {
   "cell_type": "markdown",
   "id": "c72fc152",
   "metadata": {},
   "source": [
    "def keyword is used to create the function"
   ]
  },
  {
   "cell_type": "code",
   "execution_count": 1,
   "id": "78a35249",
   "metadata": {},
   "outputs": [
    {
     "data": {
      "text/plain": [
       "[1, 3, 5, 7, 9, 11, 13, 15, 17, 19, 21, 23]"
      ]
     },
     "execution_count": 1,
     "metadata": {},
     "output_type": "execute_result"
    }
   ],
   "source": [
    "def odd_num():\n",
    "    L1 = []\n",
    "    for i in range(1,25):\n",
    "        if i%2 != 0:\n",
    "            L1.append(i)\n",
    "    return(L1)\n",
    "odd_num()     "
   ]
  },
  {
   "cell_type": "markdown",
   "id": "eafa26dd",
   "metadata": {},
   "source": [
    "Q2. Why *args and **kwargs is used in some functions? Create a function each for *args and **kwargs\n",
    "to demonstrate their use.\n",
    "\n",
    "\n",
    "\n",
    "*args\n",
    "It is used when user dont no about how many argument need to pass.\n",
    "using *args we can pass n number of argument to the function\n",
    "It will print tuple\n"
   ]
  },
  {
   "cell_type": "code",
   "execution_count": 2,
   "id": "5bf7dbcb",
   "metadata": {},
   "outputs": [
    {
     "name": "stdout",
     "output_type": "stream",
     "text": [
      "hello\n",
      "python\n"
     ]
    }
   ],
   "source": [
    "def test(*args):\n",
    "    for i in args:\n",
    "        print(i)\n",
    "test(\"hello\" ,\"python\")"
   ]
  },
  {
   "cell_type": "markdown",
   "id": "838d1f31",
   "metadata": {},
   "source": [
    "**kwargs\n",
    "It is used to print data in keyword format\n",
    "data pass in the key value pair\n",
    "**kwargs return data in dictionary format"
   ]
  },
  {
   "cell_type": "code",
   "execution_count": 3,
   "id": "964174c6",
   "metadata": {},
   "outputs": [
    {
     "data": {
      "text/plain": [
       "{'a': 'Manas', 'b': 'pree'}"
      ]
     },
     "execution_count": 3,
     "metadata": {},
     "output_type": "execute_result"
    }
   ],
   "source": [
    "def test1(**kwargs):\n",
    "    return kwargs\n",
    "test1(a= \"Manas\",b= \"pree\")"
   ]
  },
  {
   "cell_type": "markdown",
   "id": "79af17d6",
   "metadata": {},
   "source": [
    " Q3. What is an iterator in python? Name the method used to initialise the iterator object and the method\n",
    "used for iteration. Use these methods to print the first five elements of the given list [2, 4, 6, 8, 10, 12, 14,\n",
    "16, 18, 20]."
   ]
  },
  {
   "cell_type": "markdown",
   "id": "1bbab76f",
   "metadata": {},
   "source": [
    "Ans: Iterator method used to iterate over a sequenece of elements\n",
    "iterator are methode that iterate collection like lists, tuples,etc.\n",
    "the for loop in python is used for iterate over a sequence of elements\n",
    "for loop iterate over the elements of the iterator until it is ended.\n"
   ]
  },
  {
   "cell_type": "code",
   "execution_count": 4,
   "id": "6a667045",
   "metadata": {},
   "outputs": [
    {
     "name": "stdout",
     "output_type": "stream",
     "text": [
      "2\n",
      "4\n",
      "6\n",
      "8\n",
      "10\n"
     ]
    }
   ],
   "source": [
    "L2=[2, 4, 6, 8, 10, 12, 14,16, 18, 20]\n",
    "count=0\n",
    "for i in L2:\n",
    "    if count<5:\n",
    "        print(i)\n",
    "        count+=1"
   ]
  },
  {
   "cell_type": "markdown",
   "id": "712b258d",
   "metadata": {},
   "source": [
    "Q4. What is a generator function in python? Why yield keyword is used? Give an example of a generator\n",
    "function.\n"
   ]
  },
  {
   "cell_type": "markdown",
   "id": "c4b61cdd",
   "metadata": {},
   "source": [
    "Ans: \n",
    "It is special type of function\n",
    "Generators are useful when we want to produce a large sequence of values\n",
    "but we don't want to store all of them in memory at once.\n",
    "yield keyword is used to generate generator function\n",
    "yield is work as return"
   ]
  },
  {
   "cell_type": "code",
   "execution_count": 20,
   "id": "37b5c8a4",
   "metadata": {},
   "outputs": [
    {
     "name": "stdout",
     "output_type": "stream",
     "text": [
      "1\n",
      "4\n",
      "9\n",
      "16\n",
      "25\n",
      "36\n",
      "49\n",
      "64\n",
      "81\n",
      "100\n"
     ]
    }
   ],
   "source": [
    "#print first 10 square root using generator function.\n",
    "def square(n):\n",
    "    a=1\n",
    "    for i in range(n):\n",
    "        yield a**2\n",
    "        a+=1\n",
    "for i in square(10):\n",
    "    print(i)"
   ]
  },
  {
   "cell_type": "code",
   "execution_count": null,
   "id": "504a72a4",
   "metadata": {},
   "outputs": [],
   "source": []
  },
  {
   "cell_type": "markdown",
   "id": "3f35d68b",
   "metadata": {},
   "source": [
    "Q5. Create a generator function for prime numbers less than 1000. Use the next() method to print the\n",
    "first 20 prime numbers."
   ]
  },
  {
   "cell_type": "code",
   "execution_count": 14,
   "id": "bcc6616d",
   "metadata": {},
   "outputs": [
    {
     "name": "stdout",
     "output_type": "stream",
     "text": [
      "2\n",
      "3\n",
      "5\n",
      "7\n",
      "11\n",
      "13\n",
      "17\n",
      "19\n",
      "23\n",
      "29\n",
      "31\n",
      "37\n",
      "41\n",
      "43\n",
      "47\n",
      "53\n",
      "59\n",
      "61\n",
      "67\n",
      "71\n"
     ]
    }
   ],
   "source": [
    "def prime_num():\n",
    "    yield 2\n",
    "    a=[2]\n",
    "    for i in range(3,1000):\n",
    "        is_prime = True\n",
    "        for prime_num in a:\n",
    "            if i % prime_num == 0:\n",
    "                is_prime=False\n",
    "                break\n",
    "        if is_prime:\n",
    "            a.append(i)\n",
    "            yield i\n",
    "            \n",
    "prime_gen = prime_num()\n",
    "for i in range(20):\n",
    "    print(next(prime_gen))\n",
    "                \n",
    "                \n",
    "            "
   ]
  },
  {
   "cell_type": "markdown",
   "id": "65627ae6",
   "metadata": {},
   "source": [
    "\n",
    "Q6.Write a python program to print the first 10 Fibonacci numbers using a while loop.\n"
   ]
  },
  {
   "cell_type": "code",
   "execution_count": 31,
   "id": "48e54cb4",
   "metadata": {},
   "outputs": [
    {
     "name": "stdout",
     "output_type": "stream",
     "text": [
      "0\n",
      "1\n",
      "1\n",
      "2\n",
      "3\n",
      "5\n",
      "8\n",
      "13\n",
      "21\n",
      "34\n"
     ]
    }
   ],
   "source": [
    "def fibonacci(n):\n",
    "    a,b= 0,1\n",
    "    count= 0\n",
    "    while count < n:\n",
    "        print(a)\n",
    "        a,b=b, a+b\n",
    "        count+=1\n",
    "fibonacci(10)\n"
   ]
  },
  {
   "cell_type": "markdown",
   "id": "4b3b9685",
   "metadata": {},
   "source": [
    " Q7. Write a List Comprehension to iterate through the given string: ‘pwskills’.\n",
    " Expected output: ['p', 'w', 's', 'k', 'i', 'l', 'l', 's']"
   ]
  },
  {
   "cell_type": "code",
   "execution_count": 40,
   "id": "958e9bf5",
   "metadata": {},
   "outputs": [
    {
     "name": "stdout",
     "output_type": "stream",
     "text": [
      "['p', 'w', 's', 'k', 'i', 'l', 'l', 's']\n"
     ]
    }
   ],
   "source": [
    "L1=\"pwskills\"\n",
    "s= [char for char in L1]\n",
    "print(s)"
   ]
  },
  {
   "cell_type": "code",
   "execution_count": null,
   "id": "df8d4d7e",
   "metadata": {},
   "outputs": [],
   "source": []
  },
  {
   "cell_type": "markdown",
   "id": "6e3ec018",
   "metadata": {},
   "source": [
    "Q8. Write a python program to check whether a given number is Palindrome or not using a while loop."
   ]
  },
  {
   "cell_type": "code",
   "execution_count": 43,
   "id": "730c490d",
   "metadata": {},
   "outputs": [
    {
     "name": "stdout",
     "output_type": "stream",
     "text": [
      "enter the number:343\n",
      "number is palindrome\n"
     ]
    }
   ],
   "source": [
    "a=int(input(\"enter the number:\"))\n",
    "rev = 0\n",
    "x=a\n",
    "while(a>0):\n",
    "    rev = (rev*10)+ a % 10\n",
    "    a=a//10\n",
    "if (x==rev):\n",
    "    print(\"number is palindrome\")\n",
    "else:\n",
    "    print(\"number is not palindrome\")"
   ]
  },
  {
   "cell_type": "code",
   "execution_count": null,
   "id": "9cf138fa",
   "metadata": {},
   "outputs": [],
   "source": []
  },
  {
   "cell_type": "markdown",
   "id": "e4498b81",
   "metadata": {},
   "source": [
    "Q9. Write a code to print odd numbers from 1 to 100 using list comprehension.\n",
    "Note: Use a list comprehension to create a list from 1 to 100 and use another List comprehension to filter\n",
    "out odd numbers."
   ]
  },
  {
   "cell_type": "code",
   "execution_count": 44,
   "id": "2a498482",
   "metadata": {},
   "outputs": [
    {
     "data": {
      "text/plain": [
       "[1,\n",
       " 3,\n",
       " 5,\n",
       " 7,\n",
       " 9,\n",
       " 11,\n",
       " 13,\n",
       " 15,\n",
       " 17,\n",
       " 19,\n",
       " 21,\n",
       " 23,\n",
       " 25,\n",
       " 27,\n",
       " 29,\n",
       " 31,\n",
       " 33,\n",
       " 35,\n",
       " 37,\n",
       " 39,\n",
       " 41,\n",
       " 43,\n",
       " 45,\n",
       " 47,\n",
       " 49,\n",
       " 51,\n",
       " 53,\n",
       " 55,\n",
       " 57,\n",
       " 59,\n",
       " 61,\n",
       " 63,\n",
       " 65,\n",
       " 67,\n",
       " 69,\n",
       " 71,\n",
       " 73,\n",
       " 75,\n",
       " 77,\n",
       " 79,\n",
       " 81,\n",
       " 83,\n",
       " 85,\n",
       " 87,\n",
       " 89,\n",
       " 91,\n",
       " 93,\n",
       " 95,\n",
       " 97,\n",
       " 99]"
      ]
     },
     "execution_count": 44,
     "metadata": {},
     "output_type": "execute_result"
    }
   ],
   "source": [
    "[odd for odd in range(1,100) if odd%2 != 0]"
   ]
  },
  {
   "cell_type": "code",
   "execution_count": null,
   "id": "b580b1b6",
   "metadata": {},
   "outputs": [],
   "source": []
  },
  {
   "cell_type": "code",
   "execution_count": null,
   "id": "4101126e",
   "metadata": {},
   "outputs": [],
   "source": []
  },
  {
   "cell_type": "code",
   "execution_count": null,
   "id": "bdea2322",
   "metadata": {},
   "outputs": [],
   "source": []
  }
 ],
 "metadata": {
  "kernelspec": {
   "display_name": "Python 3 (ipykernel)",
   "language": "python",
   "name": "python3"
  },
  "language_info": {
   "codemirror_mode": {
    "name": "ipython",
    "version": 3
   },
   "file_extension": ".py",
   "mimetype": "text/x-python",
   "name": "python",
   "nbconvert_exporter": "python",
   "pygments_lexer": "ipython3",
   "version": "3.9.13"
  }
 },
 "nbformat": 4,
 "nbformat_minor": 5
}
