{
 "cells": [
  {
   "cell_type": "markdown",
   "id": "411867fa",
   "metadata": {},
   "source": [
    " Q1. How do you comment code in Python? What are the different types of comments?"
   ]
  },
  {
   "cell_type": "code",
   "execution_count": 2,
   "id": "13947c55",
   "metadata": {},
   "outputs": [
    {
     "name": "stdout",
     "output_type": "stream",
     "text": [
      "hello\n"
     ]
    }
   ],
   "source": [
    "# i am comment\n",
    "print(\"hello\")"
   ]
  },
  {
   "cell_type": "markdown",
   "id": "192ba726",
   "metadata": {},
   "source": [
    "single line comment"
   ]
  },
  {
   "cell_type": "code",
   "execution_count": null,
   "id": "7cdf22b0",
   "metadata": {},
   "outputs": [],
   "source": [
    "# sample of comment"
   ]
  },
  {
   "cell_type": "markdown",
   "id": "35ef9e58",
   "metadata": {},
   "source": [
    "Multiline comments"
   ]
  },
  {
   "cell_type": "code",
   "execution_count": null,
   "id": "b061b61b",
   "metadata": {},
   "outputs": [],
   "source": [
    "# 1st comment\n",
    "# 2nd comment"
   ]
  },
  {
   "cell_type": "markdown",
   "id": "a618ebf6",
   "metadata": {},
   "source": [
    "Single-line comments using string literals"
   ]
  },
  {
   "cell_type": "code",
   "execution_count": 3,
   "id": "1cf2c7f5",
   "metadata": {},
   "outputs": [
    {
     "name": "stdout",
     "output_type": "stream",
     "text": [
      "hello\n"
     ]
    }
   ],
   "source": [
    "\"\"\"multiline comment\n",
    "      of python\"\"\"\n",
    "print(\"hello\")"
   ]
  },
  {
   "cell_type": "markdown",
   "id": "18d9eaa9",
   "metadata": {},
   "source": [
    "Q2. What are variables in Python? How do you declare and assign values to variables?"
   ]
  },
  {
   "cell_type": "raw",
   "id": "b23c0494",
   "metadata": {},
   "source": [
    "It is container that store values\n",
    "python is dynamically typed language so we no need to specify the type of variable at the time of declaration\n",
    "python variable is named given to the memory location\n",
    "variable are the basic unit of the program\n",
    "variable can be start with character and underscore\n",
    "it is cannot be start with numbers"
   ]
  },
  {
   "cell_type": "code",
   "execution_count": 4,
   "id": "1848bf70",
   "metadata": {},
   "outputs": [
    {
     "name": "stdout",
     "output_type": "stream",
     "text": [
      "10\n"
     ]
    }
   ],
   "source": [
    "a = 10   # a is the variable 10 is value assign to variable\n",
    "# \"=\" is use to assign value into variable\n",
    "print(a)"
   ]
  },
  {
   "cell_type": "markdown",
   "id": "0412d2be",
   "metadata": {},
   "source": [
    "Q3. How do you convert one data type to another in Python?"
   ]
  },
  {
   "cell_type": "code",
   "execution_count": 27,
   "id": "c145b2c2",
   "metadata": {},
   "outputs": [
    {
     "name": "stdout",
     "output_type": "stream",
     "text": [
      "56\n"
     ]
    }
   ],
   "source": [
    "a = \"56\"\n",
    "type(a)\n",
    "print(int(a))"
   ]
  },
  {
   "cell_type": "code",
   "execution_count": null,
   "id": "96b4e1fe",
   "metadata": {},
   "outputs": [],
   "source": []
  },
  {
   "cell_type": "markdown",
   "id": "2234ad76",
   "metadata": {},
   "source": [
    " Q4. How do you write and execute a Python script from the command line?\n"
   ]
  },
  {
   "cell_type": "markdown",
   "id": "c557a65b",
   "metadata": {},
   "source": [
    "* To run Python scripts with the python command, you need to open a command-line and type in the word python \n",
    "or python3\n",
    "* if you have both versions, followed by the path to your script, \n",
    "     just like this: $ python3 test.py Hello python! \n",
    "        If everything works okay, after you press Enter , you'll see the phrase Hello python"
   ]
  },
  {
   "cell_type": "code",
   "execution_count": null,
   "id": "b24fb1d5",
   "metadata": {},
   "outputs": [],
   "source": []
  },
  {
   "cell_type": "markdown",
   "id": "ab395a8a",
   "metadata": {},
   "source": [
    " Q5. Given a list my_list = [1, 2, 3, 4, 5], write the code to slice the list and obtain the sub-list [2, 3]."
   ]
  },
  {
   "cell_type": "code",
   "execution_count": 1,
   "id": "c70047fd",
   "metadata": {},
   "outputs": [
    {
     "data": {
      "text/plain": [
       "[2, 3]"
      ]
     },
     "execution_count": 1,
     "metadata": {},
     "output_type": "execute_result"
    }
   ],
   "source": [
    "my_list = [1, 2, 3, 4, 5]\n",
    "my_list[1:-2]"
   ]
  },
  {
   "cell_type": "markdown",
   "id": "24a2edca",
   "metadata": {},
   "source": [
    "Q6. What is a complex number in mathematics, and how is it represented in Python?\n",
    "\n",
    "\n",
    "complex number is combination of real and imaginary number\n",
    "It is in the form of a+ib\n",
    "where a = real number\n",
    "ib = imaginary number"
   ]
  },
  {
   "cell_type": "code",
   "execution_count": 2,
   "id": "b91e3e3d",
   "metadata": {},
   "outputs": [],
   "source": [
    "a = 3+ 8j"
   ]
  },
  {
   "cell_type": "code",
   "execution_count": 3,
   "id": "444e4715",
   "metadata": {},
   "outputs": [
    {
     "data": {
      "text/plain": [
       "complex"
      ]
     },
     "execution_count": 3,
     "metadata": {},
     "output_type": "execute_result"
    }
   ],
   "source": [
    "type(a)"
   ]
  },
  {
   "cell_type": "markdown",
   "id": "0bdac65c",
   "metadata": {},
   "source": [
    "Q7. What is the correct way to declare a variable named age and assign the value 25 to it?"
   ]
  },
  {
   "cell_type": "code",
   "execution_count": 6,
   "id": "7e4995c5",
   "metadata": {},
   "outputs": [
    {
     "name": "stdout",
     "output_type": "stream",
     "text": [
      "25\n"
     ]
    }
   ],
   "source": [
    "age = 25\n",
    "print(age)"
   ]
  },
  {
   "cell_type": "markdown",
   "id": "c2e1e4da",
   "metadata": {},
   "source": [
    "Q8. Declare a variable named price and assign the value 9.99 to it. What data type does this variable\n",
    "belong to?"
   ]
  },
  {
   "cell_type": "code",
   "execution_count": 28,
   "id": "cf9cb539",
   "metadata": {},
   "outputs": [
    {
     "data": {
      "text/plain": [
       "float"
      ]
     },
     "execution_count": 28,
     "metadata": {},
     "output_type": "execute_result"
    }
   ],
   "source": [
    "price = 9.99\n",
    "type(price)"
   ]
  },
  {
   "cell_type": "code",
   "execution_count": null,
   "id": "ca99509a",
   "metadata": {},
   "outputs": [],
   "source": []
  },
  {
   "cell_type": "markdown",
   "id": "75d92559",
   "metadata": {},
   "source": [
    "Q9. Create a variable named name and assign your full name to it as a string. How would you print the\n",
    "value of this variable?"
   ]
  },
  {
   "cell_type": "code",
   "execution_count": 12,
   "id": "fb17fd33",
   "metadata": {},
   "outputs": [
    {
     "name": "stdout",
     "output_type": "stream",
     "text": [
      "14\n"
     ]
    }
   ],
   "source": [
    "name = \"prerana huamne\"\n",
    "print(len(name))"
   ]
  },
  {
   "cell_type": "code",
   "execution_count": null,
   "id": "c8e9ec0f",
   "metadata": {},
   "outputs": [],
   "source": []
  },
  {
   "cell_type": "markdown",
   "id": "e9f1ba92",
   "metadata": {},
   "source": [
    "Q10. Given the string \"Hello, World!\", extract the substring \"World\"."
   ]
  },
  {
   "cell_type": "code",
   "execution_count": 15,
   "id": "67f0234f",
   "metadata": {},
   "outputs": [
    {
     "data": {
      "text/plain": [
       "'World'"
      ]
     },
     "execution_count": 15,
     "metadata": {},
     "output_type": "execute_result"
    }
   ],
   "source": [
    "s = \"Hello, World!\"\n",
    "s[7:-1]"
   ]
  },
  {
   "cell_type": "code",
   "execution_count": null,
   "id": "8c77da29",
   "metadata": {},
   "outputs": [],
   "source": []
  },
  {
   "cell_type": "markdown",
   "id": "2b4254e6",
   "metadata": {},
   "source": [
    "Q11. Create a variable named \"is_student\"and assign it a boolean value indicating whether you are\n",
    "currently a student or not."
   ]
  },
  {
   "cell_type": "code",
   "execution_count": 23,
   "id": "b0207af5",
   "metadata": {},
   "outputs": [
    {
     "name": "stdout",
     "output_type": "stream",
     "text": [
      "I am student\n"
     ]
    }
   ],
   "source": [
    "is_student= True\n",
    "if is_student == True:\n",
    "    print(\"I am student\")\n",
    "else:\n",
    "    print(\"I am not student\")"
   ]
  },
  {
   "cell_type": "code",
   "execution_count": null,
   "id": "ebddcb96",
   "metadata": {},
   "outputs": [],
   "source": []
  },
  {
   "cell_type": "code",
   "execution_count": null,
   "id": "ff74797f",
   "metadata": {},
   "outputs": [],
   "source": []
  }
 ],
 "metadata": {
  "kernelspec": {
   "display_name": "Python 3 (ipykernel)",
   "language": "python",
   "name": "python3"
  },
  "language_info": {
   "codemirror_mode": {
    "name": "ipython",
    "version": 3
   },
   "file_extension": ".py",
   "mimetype": "text/x-python",
   "name": "python",
   "nbconvert_exporter": "python",
   "pygments_lexer": "ipython3",
   "version": "3.9.13"
  }
 },
 "nbformat": 4,
 "nbformat_minor": 5
}
